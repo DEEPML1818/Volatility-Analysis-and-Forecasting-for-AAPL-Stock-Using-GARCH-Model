{
 "cells": [
  {
   "cell_type": "code",
   "execution_count": null,
   "metadata": {},
   "outputs": [],
   "source": [
    "import yfinance as yf\n",
    "from arch import arch_model\n",
    "from arch.__future__ import reindexing\n",
    "import math\n",
    "import numpy as np\n",
    "import pandas as pd\n",
    "import matplotlib.pyplot as plt\n",
    "%matplotlib inline\n",
    "ticker= \"aapl\"\n",
    "stock_data = yf.download(ticker, start=\"2016–01–04\", end=\"2021–04–30\")\n",
    "stock_data['Return'] = 100 * (stock_data['Close'].pct_change())\n",
    "stock_data.dropna(inplace=True)"
   ]
  },
  {
   "cell_type": "code",
   "execution_count": null,
   "metadata": {},
   "outputs": [],
   "source": [
    "fig = plt.figure()\n",
    "fig.set_figwidth(12)\n",
    "plt.plot(stock_data['Return'], label='Daily Returns')\n",
    "plt.legend(loc='upper right')\n",
    "plt.title('Daily Returns Over Time')\n",
    "plt.show()"
   ]
  },
  {
   "cell_type": "code",
   "execution_count": null,
   "metadata": {},
   "outputs": [],
   "source": [
    "daily_volatility = stock_data['Return'].std()\n",
    "print('Daily volatility: ', '{:.2f}%'.format(daily_volatility))\n",
    "monthly_volatility = math.sqrt(21) * daily_volatility\n",
    "print('Monthly volatility: ', '{:.2f}%'.format(monthly_volatility))\n",
    "annual_volatility = math.sqrt(252) * daily_volatility\n",
    "print('Annual volatility: ', '{:.2f}%'.format(annual_volatility))"
   ]
  },
  {
   "cell_type": "code",
   "execution_count": null,
   "metadata": {},
   "outputs": [],
   "source": [
    "garch_model = arch_model(stock_data['Return'], p=1, q=1,\n",
    " mean='constant', vol='GARCH', dist='normal')\n",
    "gm_result = garch_model.fit(disp='off')\n",
    "print(gm_result.params)"
   ]
  },
  {
   "cell_type": "code",
   "execution_count": null,
   "metadata": {},
   "outputs": [],
   "source": [
    "print('\\n')\n",
    "gm_forecast = gm_result.forecast(horizon=5)\n",
    "print(gm_forecast.variance[-1:])"
   ]
  },
  {
   "cell_type": "code",
   "execution_count": null,
   "metadata": {},
   "outputs": [],
   "source": [
    "rolling_predictions = []\n",
    "test_size = 365\n",
    "for i in range(test_size):\n",
    " train = stock_data['Return'][:-(test_size-i)]\n",
    " model = arch_model(train, p=1, q=1)\n",
    " model_fit = model.fit(disp='off')\n",
    " pred = model_fit.forecast(horizon=1)\n",
    " rolling_predictions.append(np.sqrt(pred.variance.values[-1,:][0]))\n",
    "rolling_predictions = pd.Series(rolling_predictions, index=stock_data['Return'].index[-365:])"
   ]
  },
  {
   "cell_type": "code",
   "execution_count": null,
   "metadata": {},
   "outputs": [],
   "source": [
    "plt.figure(figsize=(10,4))\n",
    "plt.plot(rolling_predictions)\n",
    "plt.title('Rolling Prediction')\n",
    "plt.show()\n",
    "plt.figure(figsize=(12,4))\n",
    "plt.plot(stock_data['Return'][-365:])\n",
    "plt.plot(rolling_predictions)\n",
    "plt.title('Volatility Prediction - Rolling Forecast')\n",
    "plt.legend(['True Daily Returns', 'Predicted Volatility'])\n",
    "plt.show()"
   ]
  }
 ],
 "metadata": {
  "language_info": {
   "name": "python"
  },
  "orig_nbformat": 4
 },
 "nbformat": 4,
 "nbformat_minor": 2
}
